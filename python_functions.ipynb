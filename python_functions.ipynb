{
 "cells": [
  {
   "cell_type": "markdown",
   "metadata": {},
   "source": [
    "Define a function ```max_number()``` that takes two numbers as arguments and returns the largest of them. Use the if-then-else construct available in Python."
   ]
  },
  {
   "cell_type": "code",
   "execution_count": 2,
   "metadata": {},
   "outputs": [
    {
     "data": {
      "text/plain": [
       "12"
      ]
     },
     "execution_count": 2,
     "metadata": {},
     "output_type": "execute_result"
    }
   ],
   "source": [
    "def max_number(a,b):\n",
    "    if a > b:\n",
    "        return a\n",
    "    else:\n",
    "        return b\n",
    "max_number (8,12)   "
   ]
  },
  {
   "cell_type": "markdown",
   "metadata": {},
   "source": [
    "Define a function ```max_of_three()``` that takes three numbers as arguments and returns the largest of them."
   ]
  },
  {
   "cell_type": "code",
   "execution_count": 16,
   "metadata": {},
   "outputs": [
    {
     "data": {
      "text/plain": [
       "9"
      ]
     },
     "execution_count": 16,
     "metadata": {},
     "output_type": "execute_result"
    }
   ],
   "source": [
    "def max_of_three(a,b,c):\n",
    "    if a >= b:\n",
    "        if a > c:\n",
    "            return a\n",
    "        else:\n",
    "            return c\n",
    "    elif b >= c: \n",
    "        return b\n",
    "    else:\n",
    "        return c\n",
    "    \n",
    "max_of_three(8, 9, 7)\n",
    "\n"
   ]
  },
  {
   "cell_type": "markdown",
   "metadata": {},
   "source": [
    "Define a function ```is_vowel()``` that takes a character (i.e. a string of length 1). Return true if it is a vowel, false otherwise."
   ]
  },
  {
   "cell_type": "code",
   "execution_count": 101,
   "metadata": {},
   "outputs": [
    {
     "data": {
      "text/plain": [
       "False"
      ]
     },
     "execution_count": 101,
     "metadata": {},
     "output_type": "execute_result"
    }
   ],
   "source": [
    "def vowel(x):\n",
    "    vowels = [\"a\", \"e\", \"i\", \"o\", \"u\", \"y,\" \"w\"]  #yes w is sometimes a vowel \n",
    "    if x in vowels:  \n",
    "        return True\n",
    "    else:\n",
    "        return False\n",
    "    \n",
    "vowel(\"p\")\n",
    "    \n",
    "     "
   ]
  },
  {
   "cell_type": "markdown",
   "metadata": {},
   "source": [
    "Define a function ```translate()``` that will translate text into \"rövarspråket\". That is, double every consonant and place an occurrence of \"o\" in between. For example, ```translate(\"this is fun\")``` should return the string ```\"tothohisos isos fofunon\"```."
   ]
  },
  {
   "cell_type": "code",
   "execution_count": 89,
   "metadata": {},
   "outputs": [
    {
     "data": {
      "text/plain": [
       "'dodooogogsos'"
      ]
     },
     "execution_count": 89,
     "metadata": {},
     "output_type": "execute_result"
    }
   ],
   "source": [
    "def translate(phrase):\n",
    "    rov = [] #new list\n",
    "    for i in phrase: # for each character in the string input (phrase)\n",
    "        rov.append(str(i) + \"o\" + str(i))  #take the character, make sure its a string, add\n",
    "    last =\"\".join(rov)  #an \"o\" add string version of character, add it to the empty list\n",
    "    return last         #join the items to make one list instead of seperate strings\n",
    "    \n",
    "    \n",
    "    \n",
    "translate('dogs')  \n",
    "\n",
    "    "
   ]
  },
  {
   "cell_type": "markdown",
   "metadata": {},
   "source": [
    "Define a function ```sum()``` and a function ```multiply()```. Functions should sum and multiply (respectively) all numbers in an list of numbers. For example, ```sum([1,2,3,4])``` should return ```10```, and ```multiply([1,2,3,4])``` should return ```24```."
   ]
  },
  {
   "cell_type": "code",
   "execution_count": 127,
   "metadata": {},
   "outputs": [
    {
     "name": "stdout",
     "output_type": "stream",
     "text": [
      "24\n"
     ]
    }
   ],
   "source": [
    "\n",
    "\n",
    "\n",
    "def multiply(n):  #def funct with list (n) as parameter\n",
    "    total = 1     #sets var to 1 instead of 0 bc anything times 0 would be 0\n",
    "    for i in range(0,len(n)): #range of 0 to length of the list - loop as many times as there \n",
    "        total *= n[i]         #are items in the list -- total  is assigned the value \n",
    "                        #of the current total times the value of the index spot currently being used in \n",
    "                        #the list of n\n",
    "    print(total)\n",
    " \n",
    "\n",
    "    \n",
    "multiply([1,2,3,4])"
   ]
  },
  {
   "cell_type": "markdown",
   "metadata": {},
   "source": [
    "Define a function ```reverse()``` that computes the reversal of a string. For example, ```reverse(\"jag testar\")``` should return the string ```\"ratset gaj\"```."
   ]
  },
  {
   "cell_type": "code",
   "execution_count": 72,
   "metadata": {},
   "outputs": [
    {
     "data": {
      "text/plain": [
       "'seiggod'"
      ]
     },
     "execution_count": 72,
     "metadata": {},
     "output_type": "execute_result"
    }
   ],
   "source": [
    "def reverse(a):\n",
    "    last=''.join(list(reversed(a))) #makes a new list using built in reverse function, \n",
    "    return last                     #the character insead of them being seperate strings\n",
    "\n",
    "reverse(\"doggies\")\n",
    "        \n",
    "    "
   ]
  },
  {
   "cell_type": "markdown",
   "metadata": {},
   "source": [
    "Define a function ```find_longest_word()``` that takes a list of words and returns the length of the longest one."
   ]
  },
  {
   "cell_type": "code",
   "execution_count": 129,
   "metadata": {},
   "outputs": [
    {
     "data": {
      "text/plain": [
       "7"
      ]
     },
     "execution_count": 129,
     "metadata": {},
     "output_type": "execute_result"
    }
   ],
   "source": [
    "def find_longest_word(list): #define function with parameter (of a list)\n",
    "    longest_word = \"\"   #assign variable longest_word to an empty string\n",
    "    \n",
    "    for i in list:    #fir every item in list , if the # of characters in current item is greater\n",
    "        if len(i) > len(longest_word):   #than the #of characters in the string in longest_word\n",
    "            longest_word = i        #then make assign that item to the variable longest_word\n",
    "                                #otherwise dot and go to next item in list, if a longer word \n",
    "    return len(longest_word)    # comes up it will be assignes to the variable longest_word\n",
    "            \n",
    "    \n",
    "\n",
    "        \n",
    "    \n",
    "find_longest_word([\"what\", \"uhm\", \"Success\"])    "
   ]
  },
  {
   "cell_type": "raw",
   "metadata": {},
   "source": [
    "Define a function filter_long_words() that takes a list of words and an integer and returns a list of words that are longer than "
   ]
  },
  {
   "cell_type": "code",
   "execution_count": 116,
   "metadata": {},
   "outputs": [
    {
     "data": {
      "text/plain": [
       "'the-midnight-train-going-anywhere'"
      ]
     },
     "execution_count": 116,
     "metadata": {},
     "output_type": "execute_result"
    }
   ],
   "source": [
    "def filter_long_words(words, a):\n",
    "    longest_word = \"\"\n",
    "    longest_word_greater = []  #all of this explained above, \n",
    "    for i in words:\n",
    "        if len(i) > len(longest_word):\n",
    "            longest_word = i\n",
    "            \n",
    "    return longest_word\n",
    "    \n",
    "    if i in longest_word > a: #if the item in variable longest_word has more a int value \n",
    "        print(i)              #higher than the integwr provided in argument, \n",
    "        \n",
    "filter_long_words([\"hello\", \"the-midnight-train-going-anywhere\", \"chicken\"], 8)\n",
    "\n"
   ]
  },
  {
   "cell_type": "markdown",
   "metadata": {},
   "source": [
    "Write a function ```char_freq()``` that takes a string and builds a frequency listing of the characters contained in it. Represent the frequency listing as a Python dictionary. Try it with something like ```charFreq(\"abbabcbdbabdbdbabababcbcbab\")```."
   ]
  },
  {
   "cell_type": "code",
   "execution_count": null,
   "metadata": {},
   "outputs": [],
   "source": [
    "def char_freq():\n",
    "    \n",
    "#####I found examples online but I do not understand them so im not going to put an answer\n",
    "    \n",
    "    \n",
    "    \n",
    "char_freq(hfghfghfghfghhhhddddffggg)    "
   ]
  }
 ],
 "metadata": {
  "kernelspec": {
   "display_name": "Python 3",
   "language": "python",
   "name": "python3"
  },
  "language_info": {
   "codemirror_mode": {
    "name": "ipython",
    "version": 3
   },
   "file_extension": ".py",
   "mimetype": "text/x-python",
   "name": "python",
   "nbconvert_exporter": "python",
   "pygments_lexer": "ipython3",
   "version": "3.7.2"
  }
 },
 "nbformat": 4,
 "nbformat_minor": 2
}
